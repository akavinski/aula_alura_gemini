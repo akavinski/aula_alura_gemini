{
  "nbformat": 4,
  "nbformat_minor": 0,
  "metadata": {
    "colab": {
      "provenance": [],
      "authorship_tag": "ABX9TyML02LCnbgXFuQT09kDu8uP",
      "include_colab_link": true
    },
    "kernelspec": {
      "name": "python3",
      "display_name": "Python 3"
    },
    "language_info": {
      "name": "python"
    }
  },
  "cells": [
    {
      "cell_type": "markdown",
      "metadata": {
        "id": "view-in-github",
        "colab_type": "text"
      },
      "source": [
        "<a href=\"https://colab.research.google.com/github/akavinski/aula_alura_gemini/blob/main/aula_alura_gemini.ipynb\" target=\"_parent\"><img src=\"https://colab.research.google.com/assets/colab-badge.svg\" alt=\"Open In Colab\"/></a>"
      ]
    },
    {
      "cell_type": "markdown",
      "source": [
        "\n",
        "instalando o SDK do Google\n",
        "\n"
      ],
      "metadata": {
        "id": "UFQOR5XZb1Y_"
      }
    },
    {
      "cell_type": "code",
      "execution_count": 5,
      "metadata": {
        "id": "SXkSI-O6brSh"
      },
      "outputs": [],
      "source": [
        "!pip install -q -U google-generativeai"
      ]
    },
    {
      "cell_type": "markdown",
      "source": [
        "Instalando SDK do Google"
      ],
      "metadata": {
        "id": "GvnKMMhtcdLN"
      }
    },
    {
      "cell_type": "code",
      "source": [
        "# Import the Python SDK\n",
        "import google.generativeai as genai\n",
        "# Used to securely store your API key\n",
        "from google.colab import userdata\n",
        "api_key = userdata.get('SECRET_KEY')\n",
        "genai.configure(api_key=api_key)"
      ],
      "metadata": {
        "id": "7ANhZmE2cjBW"
      },
      "execution_count": 20,
      "outputs": []
    },
    {
      "cell_type": "markdown",
      "source": [
        "Listar os modelos disponíveis"
      ],
      "metadata": {
        "id": "xgLt2hYWdD9A"
      }
    },
    {
      "cell_type": "code",
      "source": [
        "for m in genai.list_models():\n",
        "  if 'generateContent' in m.supported_generation_methods:\n",
        "    print(m.name)"
      ],
      "metadata": {
        "colab": {
          "base_uri": "https://localhost:8080/",
          "height": 142
        },
        "id": "PoeRlmBadXpa",
        "outputId": "aec3ea8e-7c18-49af-e8a3-7bb8358973a1"
      },
      "execution_count": 21,
      "outputs": [
        {
          "output_type": "stream",
          "name": "stdout",
          "text": [
            "models/gemini-1.0-pro\n",
            "models/gemini-1.0-pro-001\n",
            "models/gemini-1.0-pro-latest\n",
            "models/gemini-1.0-pro-vision-latest\n",
            "models/gemini-1.5-pro-latest\n",
            "models/gemini-pro\n",
            "models/gemini-pro-vision\n"
          ]
        }
      ]
    },
    {
      "cell_type": "markdown",
      "source": [
        "Parametrizando os modelos / definindo variáveis"
      ],
      "metadata": {
        "id": "OViydRvDXM5F"
      }
    },
    {
      "cell_type": "code",
      "source": [
        "generation_config = {\n",
        "    \"candidate_count\": 1,\n",
        "    \"temperature\": 0.5,\n",
        "}"
      ],
      "metadata": {
        "id": "1CibcQC8Upbe"
      },
      "execution_count": 22,
      "outputs": []
    },
    {
      "cell_type": "markdown",
      "source": [
        "Se não configurar os abaixo vem todos definidos como SOME"
      ],
      "metadata": {
        "id": "urUHKU5fXpb4"
      }
    },
    {
      "cell_type": "code",
      "source": [
        "safety_settings = {\n",
        "    \"HARASSMENT\": \"BLOCK_NONE\",\n",
        "    \"HATE\": \"BLOCK_NONE\",\n",
        "    \"SEXUAL\": \"BLOCK_NONE\",\n",
        "    \"DANGEROUS\": \"BLOCK_NONE\",\n",
        "}"
      ],
      "metadata": {
        "id": "QTkSY0jSV5bH"
      },
      "execution_count": 23,
      "outputs": []
    },
    {
      "cell_type": "markdown",
      "source": [
        "Inicializando o modelo"
      ],
      "metadata": {
        "id": "u19wykJ8X3Yg"
      }
    },
    {
      "cell_type": "code",
      "source": [
        "model = genai.GenerativeModel(model_name=\"gemini-1.0-pro\",\n",
        "                              generation_config=generation_config,\n",
        "                              safety_settings=safety_settings)"
      ],
      "metadata": {
        "id": "63SIy9ihYI_E"
      },
      "execution_count": 24,
      "outputs": []
    },
    {
      "cell_type": "code",
      "source": [
        "response = model.generate_content(\"Vamos aprender conteúdo sobre IA. Me dê sugestões\")\n",
        "print(response.text)"
      ],
      "metadata": {
        "colab": {
          "base_uri": "https://localhost:8080/",
          "height": 785
        },
        "id": "NhSAQZ2-aDDM",
        "outputId": "b9a56fb1-a198-42b1-a61e-137a3baf5e30"
      },
      "execution_count": 25,
      "outputs": [
        {
          "output_type": "stream",
          "name": "stdout",
          "text": [
            "**Conceitos Fundamentais**\n",
            "\n",
            "* Definição e história da Inteligência Artificial (IA)\n",
            "* Tipos de IA: aprendizado de máquina, aprendizado profundo, processamento de linguagem natural\n",
            "* Algoritmos e modelos comuns de IA\n",
            "* Ética e implicações sociais da IA\n",
            "\n",
            "**Aprendizado de Máquina**\n",
            "\n",
            "* Tipos de aprendizado de máquina: supervisionado, não supervisionado, por reforço\n",
            "* Algoritmos de aprendizado de máquina: regressão linear, árvores de decisão, redes neurais\n",
            "* Avaliação e otimização de modelos de aprendizado de máquina\n",
            "* Aplicações de aprendizado de máquina: reconhecimento de imagem, previsão de demanda, detecção de fraude\n",
            "\n",
            "**Aprendizado Profundo**\n",
            "\n",
            "* Conceitos básicos de redes neurais\n",
            "* Arquiteturas comuns de redes neurais: CNNs, RNNs, Transformers\n",
            "* Treinamento e avaliação de redes neurais\n",
            "* Aplicações de aprendizado profundo: visão computacional, processamento de linguagem natural, reconhecimento de fala\n",
            "\n",
            "**Processamento de Linguagem Natural (PNL)**\n",
            "\n",
            "* Conceitos de PNL: tokenização, análise sintática, semântica\n",
            "* Modelos de PNL: modelos de linguagem, modelos de tradução neural\n",
            "* Tarefas de PNL: resumo de texto, geração de linguagem, classificação de sentimento\n",
            "* Aplicações de PNL: chatbots, sistemas de tradução, análise de mídia social\n",
            "\n",
            "**Aplicações da IA**\n",
            "\n",
            "* IA na saúde: diagnóstico médico, descoberta de medicamentos\n",
            "* IA nas finanças: previsão de mercado, detecção de fraudes\n",
            "* IA na manufatura: otimização de processos, controle de qualidade\n",
            "* IA no varejo: recomendações personalizadas, análise de clientes\n",
            "* IA nos transportes: veículos autônomos, otimização de rotas\n",
            "\n",
            "**Tendências e Avanços**\n",
            "\n",
            "* IA quântica\n",
            "* Aprendizado federado\n",
            "* IA autossuficiente\n",
            "* IA generativa\n",
            "* Implicações éticas e sociais da IA avançada\n"
          ]
        }
      ]
    },
    {
      "cell_type": "code",
      "source": [
        "chat = model.start_chat(history=[])"
      ],
      "metadata": {
        "id": "zIf2KHwtaqYp"
      },
      "execution_count": 26,
      "outputs": []
    },
    {
      "cell_type": "code",
      "source": [
        "prompt = input(\"Esperando prompt: \")\n",
        "while prompt != \"fim\":\n",
        "  response = chat.send_message(prompt)\n",
        "  print(\"Resposta: \",response.text), \"\\n\"\n",
        "  prompt = input(\"Esperando prompt: \")"
      ],
      "metadata": {
        "colab": {
          "base_uri": "https://localhost:8080/",
          "height": 374
        },
        "id": "RsNDjPXbbejv",
        "outputId": "a4d713e7-d4dd-43d5-9c47-20c9a01bb020"
      },
      "execution_count": 27,
      "outputs": [
        {
          "name": "stdout",
          "output_type": "stream",
          "text": [
            "Esperando prompt: quem foi renato russo\n",
            "Resposta:  Renato Russo (Renato Manfredini Júnior) foi um cantor, compositor, poeta e líder da banda Legião Urbana.\n",
            "\n",
            "**Biografia:**\n",
            "\n",
            "* Nasceu em 27 de março de 1960, no Rio de Janeiro.\n",
            "* Mudou-se para Brasília com a família aos 10 anos.\n",
            "* Formou a Legião Urbana em 1982 com Marcelo Bonfá (bateria) e Dado Villa-Lobos (guitarra).\n",
            "* Lançou o primeiro álbum da banda, \"Legião Urbana\", em 1985.\n",
            "* Tornou-se um ícone da música brasileira com sucessos como \"Tempo Perdido\", \"Eduardo e Mônica\" e \"Faroeste Caboclo\".\n",
            "* Enfrentou problemas de saúde, incluindo depressão e AIDS.\n",
            "* Faleceu em 11 de outubro de 1996, aos 36 anos, em decorrência de complicações da AIDS.\n",
            "\n",
            "**Legado:**\n",
            "\n",
            "* Renato Russo é considerado um dos maiores poetas e compositores da música brasileira.\n",
            "* Suas letras introspectivas e críticas sociais marcaram uma geração.\n",
            "* A Legião Urbana continua sendo uma das bandas mais populares e influentes do país.\n",
            "* Renato Russo foi homenageado com estátuas, selos e documentários.\n",
            "Esperando prompt: fim\n"
          ]
        }
      ]
    },
    {
      "cell_type": "code",
      "source": [
        "#Melhorando a visualização\n",
        "#Código disponível em https://ai.google.dev/tutorials/python_quickstart#import_packages\n",
        "import textwrap\n",
        "from IPython.display import display\n",
        "from IPython.display import Markdown\n",
        "\n",
        "def to_markdown(text):\n",
        "  text = text.replace('•', '  *')\n",
        "  return Markdown(textwrap.indent(text, '> ', predicate=lambda _: True))\n",
        "\n",
        "#Imprimindo o histórico\n",
        "for message in chat.history:\n",
        "  display(to_markdown(f'**{message.role}**: {message.parts[0].text}'))\n",
        "  print('-------------------------------------------')"
      ],
      "metadata": {
        "colab": {
          "base_uri": "https://localhost:8080/",
          "height": 393
        },
        "id": "hFvZvOfEkTB2",
        "outputId": "8da8c457-e20f-4d7e-96a9-aa95d26b11c6"
      },
      "execution_count": 28,
      "outputs": [
        {
          "output_type": "display_data",
          "data": {
            "text/plain": [
              "<IPython.core.display.Markdown object>"
            ],
            "text/markdown": "> **user**: quem foi renato russo"
          },
          "metadata": {}
        },
        {
          "output_type": "stream",
          "name": "stdout",
          "text": [
            "-------------------------------------------\n"
          ]
        },
        {
          "output_type": "display_data",
          "data": {
            "text/plain": [
              "<IPython.core.display.Markdown object>"
            ],
            "text/markdown": "> **model**: Renato Russo (Renato Manfredini Júnior) foi um cantor, compositor, poeta e líder da banda Legião Urbana.\n> \n> **Biografia:**\n> \n> * Nasceu em 27 de março de 1960, no Rio de Janeiro.\n> * Mudou-se para Brasília com a família aos 10 anos.\n> * Formou a Legião Urbana em 1982 com Marcelo Bonfá (bateria) e Dado Villa-Lobos (guitarra).\n> * Lançou o primeiro álbum da banda, \"Legião Urbana\", em 1985.\n> * Tornou-se um ícone da música brasileira com sucessos como \"Tempo Perdido\", \"Eduardo e Mônica\" e \"Faroeste Caboclo\".\n> * Enfrentou problemas de saúde, incluindo depressão e AIDS.\n> * Faleceu em 11 de outubro de 1996, aos 36 anos, em decorrência de complicações da AIDS.\n> \n> **Legado:**\n> \n> * Renato Russo é considerado um dos maiores poetas e compositores da música brasileira.\n> * Suas letras introspectivas e críticas sociais marcaram uma geração.\n> * A Legião Urbana continua sendo uma das bandas mais populares e influentes do país.\n> * Renato Russo foi homenageado com estátuas, selos e documentários."
          },
          "metadata": {}
        },
        {
          "output_type": "stream",
          "name": "stdout",
          "text": [
            "-------------------------------------------\n"
          ]
        }
      ]
    }
  ]
}